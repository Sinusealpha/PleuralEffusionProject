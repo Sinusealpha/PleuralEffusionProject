{
  "nbformat": 4,
  "nbformat_minor": 0,
  "metadata": {
    "colab": {
      "provenance": [],
      "authorship_tag": "ABX9TyNdHaQDxB2q+MxhhqNEIpiI",
      "include_colab_link": true
    },
    "kernelspec": {
      "name": "python3",
      "display_name": "Python 3"
    },
    "language_info": {
      "name": "python"
    }
  },
  "cells": [
    {
      "cell_type": "markdown",
      "metadata": {
        "id": "view-in-github",
        "colab_type": "text"
      },
      "source": [
        "<a href=\"https://colab.research.google.com/github/Sinusealpha/PleuralEffusionProject/blob/main/Untitled0.ipynb\" target=\"_parent\"><img src=\"https://colab.research.google.com/assets/colab-badge.svg\" alt=\"Open In Colab\"/></a>"
      ]
    },
    {
      "cell_type": "markdown",
      "source": [
        "# Pulmonary Course’s Tools (PCT)\n",
        "Welcome to the Pulmonary Course’s Tools (PCT) repository!\n",
        "\n",
        "Here, we’ll explore (and also explain) a collection of tools specifically designed for medical students and professionals who have completed their pulmonary course in medical school. While it’s impossible to cover every conceivable tool, we aim to showcase a diverse range of practical applications within this specialized field.\n",
        "\n",
        "\n",
        "## The Purpose\n",
        "This repository serves just as a fun project—a testament to our ability to create valuable tools within a very small domain of medicine. However, it’s essential to emphasize that these tools are NOT intended for real-world patient care. Please refrain from using them in clinical practice, even if you find them helpful!\n",
        "\n",
        "\n",
        "## Further Explanations\n",
        "- Tool Order: There’s no strict order among the tools. After running the initial code, feel free to explore any tool that interests you. We’ve arranged them based on usage frequency, drawing from our experience.\n",
        "- Copying Permissions: You’re welcome to copy parts or the entirety of this notebook. Share it freely!\n",
        "- Clinical Caution: Remember that these tools are for educational purposes only. Never apply them directly to patient care. If you choose to do so, you assume full responsibility.\n",
        "- Feedback: We appreciate feedback! If you spot any errors, please reach out to us at sina80mor@gmail.com.\n"
      ],
      "metadata": {
        "id": "wgKWpAmc-Ayj"
      }
    },
    {
      "cell_type": "code",
      "source": [
        "import pandas as pd\n",
        "import numpy as np\n",
        "import matplotlib.pyplot as plt\n",
        "import math\n",
        "import os\n",
        "import requests\n",
        "import seaborn\n",
        "import tkinter as tk"
      ],
      "metadata": {
        "id": "xjl7St-m-SHq"
      },
      "execution_count": 1,
      "outputs": []
    },
    {
      "cell_type": "code",
      "source": [
        "print(np.arange(1,12))"
      ],
      "metadata": {
        "colab": {
          "base_uri": "https://localhost:8080/"
        },
        "id": "ULrkMW6i-ND-",
        "outputId": "aaeb3890-a115-4da6-9bf0-df1ca66543d3"
      },
      "execution_count": 2,
      "outputs": [
        {
          "output_type": "stream",
          "name": "stdout",
          "text": [
            "[ 1  2  3  4  5  6  7  8  9 10 11]\n"
          ]
        }
      ]
    },
    {
      "cell_type": "code",
      "source": [],
      "metadata": {
        "id": "w0otRXuX-h9z"
      },
      "execution_count": null,
      "outputs": []
    }
  ]
}